{
 "cells": [
  {
   "cell_type": "code",
   "execution_count": 1,
   "id": "dcfc2e91",
   "metadata": {},
   "outputs": [
    {
     "name": "stdout",
     "output_type": "stream",
     "text": [
      "[nltk_data] Downloading package punkt to\n",
      "[nltk_data]     C:\\Users\\Student\\AppData\\Roaming\\nltk_data...\n",
      "[nltk_data]   Package punkt is already up-to-date!\n",
      "[nltk_data] Downloading package stopwords to\n",
      "[nltk_data]     C:\\Users\\Student\\AppData\\Roaming\\nltk_data...\n",
      "[nltk_data]   Package stopwords is already up-to-date!\n"
     ]
    }
   ],
   "source": [
    "#importing necessery libraries for future analysis of the dataset\n",
    "import numpy as np\n",
    "import pandas as pd\n",
    "import matplotlib.pyplot as plt\n",
    "import matplotlib.image as mpimg\n",
    "%matplotlib inline\n",
    "import seaborn as sns\n",
    "np.random.seed(2020)\n",
    "import nltk\n",
    "nltk.download('punkt') # one time execution\n",
    "nltk.download('stopwords')\n",
    "from nltk.corpus import stopwords\n",
    "stop_words = set(stopwords.words('english'))\n",
    "import re\n",
    "from nltk.tokenize import word_tokenize"
   ]
  },
  {
   "cell_type": "code",
   "execution_count": 2,
   "id": "f27d849f",
   "metadata": {},
   "outputs": [],
   "source": [
    "data = pd.read_csv('train1205.csv')"
   ]
  },
  {
   "cell_type": "code",
   "execution_count": 3,
   "id": "c6202517",
   "metadata": {},
   "outputs": [
    {
     "data": {
      "text/plain": [
       "review_id      0\n",
       "review_text    2\n",
       "stars          0\n",
       "target         0\n",
       "dtype: int64"
      ]
     },
     "execution_count": 3,
     "metadata": {},
     "output_type": "execute_result"
    }
   ],
   "source": [
    "data.isnull().sum()"
   ]
  },
  {
   "cell_type": "code",
   "execution_count": 4,
   "id": "e70456c7",
   "metadata": {},
   "outputs": [
    {
     "data": {
      "text/plain": [
       "(8635403, 4)"
      ]
     },
     "execution_count": 4,
     "metadata": {},
     "output_type": "execute_result"
    }
   ],
   "source": [
    "data.shape"
   ]
  },
  {
   "cell_type": "code",
   "execution_count": 5,
   "id": "7bcd9598",
   "metadata": {},
   "outputs": [
    {
     "data": {
      "text/plain": [
       "review_id       object\n",
       "review_text     object\n",
       "stars          float64\n",
       "target           int64\n",
       "dtype: object"
      ]
     },
     "execution_count": 5,
     "metadata": {},
     "output_type": "execute_result"
    }
   ],
   "source": [
    "data.dtypes"
   ]
  },
  {
   "cell_type": "code",
   "execution_count": 6,
   "id": "242de05b",
   "metadata": {
    "scrolled": true
   },
   "outputs": [
    {
     "data": {
      "text/html": [
       "<div>\n",
       "<style scoped>\n",
       "    .dataframe tbody tr th:only-of-type {\n",
       "        vertical-align: middle;\n",
       "    }\n",
       "\n",
       "    .dataframe tbody tr th {\n",
       "        vertical-align: top;\n",
       "    }\n",
       "\n",
       "    .dataframe thead th {\n",
       "        text-align: right;\n",
       "    }\n",
       "</style>\n",
       "<table border=\"1\" class=\"dataframe\">\n",
       "  <thead>\n",
       "    <tr style=\"text-align: right;\">\n",
       "      <th></th>\n",
       "      <th>review_id</th>\n",
       "      <th>review_text</th>\n",
       "      <th>stars</th>\n",
       "      <th>target</th>\n",
       "    </tr>\n",
       "  </thead>\n",
       "  <tbody>\n",
       "    <tr>\n",
       "      <th>0</th>\n",
       "      <td>lWC-xP3rd6obsecCYsGZRg</td>\n",
       "      <td>Apparently Prides Osteria had a rough summer a...</td>\n",
       "      <td>4.0</td>\n",
       "      <td>1</td>\n",
       "    </tr>\n",
       "    <tr>\n",
       "      <th>1</th>\n",
       "      <td>8bFej1QE5LXp4O05qjGqXA</td>\n",
       "      <td>This store is pretty good. Not as great as Wal...</td>\n",
       "      <td>4.0</td>\n",
       "      <td>1</td>\n",
       "    </tr>\n",
       "    <tr>\n",
       "      <th>2</th>\n",
       "      <td>NDhkzczKjLshODbqDoNLSg</td>\n",
       "      <td>I called WVM on the recommendation of a couple...</td>\n",
       "      <td>5.0</td>\n",
       "      <td>1</td>\n",
       "    </tr>\n",
       "    <tr>\n",
       "      <th>3</th>\n",
       "      <td>T5fAqjjFooT4V0OeZyuk1w</td>\n",
       "      <td>I've stayed at many Marriott and Renaissance M...</td>\n",
       "      <td>2.0</td>\n",
       "      <td>0</td>\n",
       "    </tr>\n",
       "    <tr>\n",
       "      <th>4</th>\n",
       "      <td>sjm_uUcQVxab_EeLCqsYLg</td>\n",
       "      <td>The food is always great here. The service fro...</td>\n",
       "      <td>4.0</td>\n",
       "      <td>1</td>\n",
       "    </tr>\n",
       "    <tr>\n",
       "      <th>...</th>\n",
       "      <td>...</td>\n",
       "      <td>...</td>\n",
       "      <td>...</td>\n",
       "      <td>...</td>\n",
       "    </tr>\n",
       "    <tr>\n",
       "      <th>8635398</th>\n",
       "      <td>PHnqMOU1pzHbnUMk3Cg2zA</td>\n",
       "      <td>In December, I called in (as a returning custo...</td>\n",
       "      <td>1.0</td>\n",
       "      <td>0</td>\n",
       "    </tr>\n",
       "    <tr>\n",
       "      <th>8635399</th>\n",
       "      <td>dViF8gg9745CszpekNvp2g</td>\n",
       "      <td>This guy is a moron that will stalk and harass...</td>\n",
       "      <td>1.0</td>\n",
       "      <td>0</td>\n",
       "    </tr>\n",
       "    <tr>\n",
       "      <th>8635400</th>\n",
       "      <td>7vNXRIClt-9rFzMXlrtMXA</td>\n",
       "      <td>Yummy, great chew on the bagel\\nFriendly staff...</td>\n",
       "      <td>5.0</td>\n",
       "      <td>1</td>\n",
       "    </tr>\n",
       "    <tr>\n",
       "      <th>8635401</th>\n",
       "      <td>Ho57jz6U-JjrGHpGWIGLNg</td>\n",
       "      <td>This used to be my car wash of choice. They di...</td>\n",
       "      <td>2.0</td>\n",
       "      <td>0</td>\n",
       "    </tr>\n",
       "    <tr>\n",
       "      <th>8635402</th>\n",
       "      <td>YNyurWy1ZIYEy1vXI7azOg</td>\n",
       "      <td>This is so highly rated for a reason. If you'r...</td>\n",
       "      <td>5.0</td>\n",
       "      <td>1</td>\n",
       "    </tr>\n",
       "  </tbody>\n",
       "</table>\n",
       "<p>8635401 rows × 4 columns</p>\n",
       "</div>"
      ],
      "text/plain": [
       "                      review_id  \\\n",
       "0        lWC-xP3rd6obsecCYsGZRg   \n",
       "1        8bFej1QE5LXp4O05qjGqXA   \n",
       "2        NDhkzczKjLshODbqDoNLSg   \n",
       "3        T5fAqjjFooT4V0OeZyuk1w   \n",
       "4        sjm_uUcQVxab_EeLCqsYLg   \n",
       "...                         ...   \n",
       "8635398  PHnqMOU1pzHbnUMk3Cg2zA   \n",
       "8635399  dViF8gg9745CszpekNvp2g   \n",
       "8635400  7vNXRIClt-9rFzMXlrtMXA   \n",
       "8635401  Ho57jz6U-JjrGHpGWIGLNg   \n",
       "8635402  YNyurWy1ZIYEy1vXI7azOg   \n",
       "\n",
       "                                               review_text  stars  target  \n",
       "0        Apparently Prides Osteria had a rough summer a...    4.0       1  \n",
       "1        This store is pretty good. Not as great as Wal...    4.0       1  \n",
       "2        I called WVM on the recommendation of a couple...    5.0       1  \n",
       "3        I've stayed at many Marriott and Renaissance M...    2.0       0  \n",
       "4        The food is always great here. The service fro...    4.0       1  \n",
       "...                                                    ...    ...     ...  \n",
       "8635398  In December, I called in (as a returning custo...    1.0       0  \n",
       "8635399  This guy is a moron that will stalk and harass...    1.0       0  \n",
       "8635400  Yummy, great chew on the bagel\\nFriendly staff...    5.0       1  \n",
       "8635401  This used to be my car wash of choice. They di...    2.0       0  \n",
       "8635402  This is so highly rated for a reason. If you'r...    5.0       1  \n",
       "\n",
       "[8635401 rows x 4 columns]"
      ]
     },
     "execution_count": 6,
     "metadata": {},
     "output_type": "execute_result"
    }
   ],
   "source": [
    "data.dropna()"
   ]
  },
  {
   "cell_type": "code",
   "execution_count": 7,
   "id": "d2a622aa",
   "metadata": {},
   "outputs": [],
   "source": [
    "# 將文字標準化為僅為英文字元。此函式將刪除所有非英語字元。data['review_text'].apply(clean_non_english)\n",
    "def clean_non_english(txt): \n",
    "    try: \n",
    "        txt = re.sub(r'\\W+', ' ', txt)\n",
    "        txt = txt.lower()\n",
    "        txt = txt.replace(\"[^a-zA-Z]\", \" \")\n",
    "        word_tokens = word_tokenize(txt) \n",
    "        filtered_word = [w for w in word_tokens if all(ord(c) < 128 for c in w)]\n",
    "        filtered_word = [w + \" \" for w in filtered_word]\n",
    "        return \"\".join(filtered_word)\n",
    "    except:\n",
    "        return np.nan\n",
    "\n",
    "data[\"english_text\"] = data['review_text'].apply(clean_non_english)"
   ]
  },
  {
   "cell_type": "code",
   "execution_count": 8,
   "id": "dfda4c1b",
   "metadata": {
    "scrolled": true
   },
   "outputs": [
    {
     "data": {
      "text/plain": [
       "0    apparently prides osteria had a rough summer a...\n",
       "1    this store is pretty good not as great as walm...\n",
       "2    i called wvm on the recommendation of a couple...\n",
       "3    i ve stayed at many marriott and renaissance m...\n",
       "4    the food is always great here the service from...\n",
       "Name: english_text, dtype: object"
      ]
     },
     "execution_count": 8,
     "metadata": {},
     "output_type": "execute_result"
    }
   ],
   "source": [
    "data[\"english_text\"].head(5)"
   ]
  },
  {
   "cell_type": "markdown",
   "id": "777ac11d",
   "metadata": {},
   "source": [
    "***我們甚至可以通過刪除停止詞來做得更好。停詞是出現在英語句子中對意思沒有多大幫助的常見詞。我們將使用nltk包來過濾stopwords。由於我們的主要任務是使用word cloud將tweet的主題視覺化，所以這一步需要避免使用“the，”“a，”等常見單詞。但是，如果你的任務需要完整的句子結構，比如下一個單詞預測或語法檢查，你可以跳過這一步。"
   ]
  },
  {
   "cell_type": "code",
   "execution_count": null,
   "id": "024a6e2d",
   "metadata": {},
   "outputs": [],
   "source": [
    "stop_words = set(stopwords.words('english'))\n",
    "def clean_text(english_txt):\n",
    "    try:\n",
    "        word_tokens = word_tokenize(english_txt)\n",
    "        filtered_word = [w for w in word_tokens if not w in stop_words]\n",
    "        filtered_word = [w + \" \" for w in filtered_word]\n",
    "        return \"\".join(filtered_word)\n",
    "    except:\n",
    "        return np.nan\n",
    "\n",
    "data['clean_text'] = data['english_text'].apply(clean_text)"
   ]
  },
  {
   "cell_type": "code",
   "execution_count": null,
   "id": "446555ca",
   "metadata": {},
   "outputs": [],
   "source": []
  }
 ],
 "metadata": {
  "kernelspec": {
   "display_name": "Python 3 (ipykernel)",
   "language": "python",
   "name": "python3"
  },
  "language_info": {
   "codemirror_mode": {
    "name": "ipython",
    "version": 3
   },
   "file_extension": ".py",
   "mimetype": "text/x-python",
   "name": "python",
   "nbconvert_exporter": "python",
   "pygments_lexer": "ipython3",
   "version": "3.8.12"
  }
 },
 "nbformat": 4,
 "nbformat_minor": 5
}
